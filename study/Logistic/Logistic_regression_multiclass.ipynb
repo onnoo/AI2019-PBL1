{
  "nbformat": 4,
  "nbformat_minor": 0,
  "metadata": {
    "colab": {
      "name": "Logistic_regression_multiclass.ipynb",
      "provenance": [],
      "collapsed_sections": []
    },
    "kernelspec": {
      "name": "python3",
      "display_name": "Python 3"
    }
  },
  "cells": [
    {
      "cell_type": "code",
      "metadata": {
        "id": "1IF7FiZRCSxb",
        "colab_type": "code",
        "colab": {
          "resources": {
            "http://localhost:8080/nbextensions/google.colab/files.js": {
              "data": "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",
              "ok": true,
              "headers": [
                [
                  "content-type",
                  "application/javascript"
                ]
              ],
              "status": 200,
              "status_text": ""
            }
          },
          "base_uri": "https://localhost:8080/",
          "height": 187
        },
        "outputId": "944297fd-055e-4ab3-95ab-1385f03a5933"
      },
      "source": [
        "from google.colab import files\n",
        "uploaded = files.upload()"
      ],
      "execution_count": 5,
      "outputs": [
        {
          "output_type": "display_data",
          "data": {
            "text/html": [
              "\n",
              "     <input type=\"file\" id=\"files-5d0270bd-b209-4b20-a476-bb964766614a\" name=\"files[]\" multiple disabled />\n",
              "     <output id=\"result-5d0270bd-b209-4b20-a476-bb964766614a\">\n",
              "      Upload widget is only available when the cell has been executed in the\n",
              "      current browser session. Please rerun this cell to enable.\n",
              "      </output>\n",
              "      <script src=\"/nbextensions/google.colab/files.js\"></script> "
            ],
            "text/plain": [
              "<IPython.core.display.HTML object>"
            ]
          },
          "metadata": {
            "tags": []
          }
        },
        {
          "output_type": "stream",
          "text": [
            "Saving t10k-images.idx3-ubyte to t10k-images (1).idx3-ubyte\n",
            "Saving t10k-labels.idx1-ubyte to t10k-labels (1).idx1-ubyte\n",
            "Saving train-images.idx3-ubyte to train-images (1).idx3-ubyte\n",
            "Saving train-labels.idx1-ubyte to train-labels.idx1-ubyte\n"
          ],
          "name": "stdout"
        }
      ]
    },
    {
      "cell_type": "code",
      "metadata": {
        "id": "hhcN4705Cmfr",
        "colab_type": "code",
        "colab": {}
      },
      "source": [
        ""
      ],
      "execution_count": 0,
      "outputs": []
    },
    {
      "cell_type": "markdown",
      "metadata": {
        "id": "0xSlvvnBqsqu",
        "colab_type": "text"
      },
      "source": [
        "\n",
        "#MNIST Dataset Load"
      ]
    },
    {
      "cell_type": "code",
      "metadata": {
        "id": "ZvXiNr8cqzyo",
        "colab_type": "code",
        "colab": {}
      },
      "source": [
        "import os\n",
        "import struct\n",
        "import numpy as np\n",
        "\n",
        "\"\"\"\n",
        "Loosely inspired by http://abel.ee.ucla.edu/cvxopt/_downloads/mnist.py\n",
        "which is GPL licensed.\n",
        "\"\"\"\n",
        "\n",
        "def read(dataset = \"training\", path = \".\"):\n",
        "    \"\"\"\n",
        "    Python function for importing the MNIST data set.  It returns an iterator\n",
        "    of 2-tuples with the first element being the label and the second element\n",
        "    being a numpy.uint8 2D array of pixel data for the given image.\n",
        "    \"\"\"\n",
        "\n",
        "    if dataset is \"testing\":\n",
        "        fname_img = os.path.join(path, 'train-images (1).idx3-ubyte')\n",
        "        fname_lbl = os.path.join(path, 'train-labels.idx1-ubyte')\n",
        "    elif dataset is \"training\":\n",
        "        fname_img = os.path.join(path, 't10k-images (1).idx3-ubyte')\n",
        "        fname_lbl = os.path.join(path, 't10k-labels (1).idx1-ubyte')\n",
        "    else:\n",
        "        raise Exception(\"dataset must be 'testing' or 'training'\")\n",
        "\n",
        "    # Load everything in some numpy arrays\n",
        "    with open(fname_lbl, 'rb') as flbl:\n",
        "        magic, num = struct.unpack(\">II\", flbl.read(8))\n",
        "        lbl = np.fromfile(flbl, dtype=np.int8)\n",
        "\n",
        "    with open(fname_img, 'rb') as fimg:\n",
        "        magic, num, rows, cols = struct.unpack(\">IIII\", fimg.read(16))\n",
        "        img = np.fromfile(fimg, dtype=np.uint8).reshape(len(lbl), rows, cols)\n",
        "\n",
        "    return img, lbl"
      ],
      "execution_count": 0,
      "outputs": []
    },
    {
      "cell_type": "code",
      "metadata": {
        "id": "YxbTdIugv80n",
        "colab_type": "code",
        "colab": {}
      },
      "source": [
        "# MNIST data directory path\n",
        "path = ''"
      ],
      "execution_count": 0,
      "outputs": []
    },
    {
      "cell_type": "code",
      "metadata": {
        "id": "jsrZzLw5wRbr",
        "colab_type": "code",
        "colab": {}
      },
      "source": [
        "X_train, y_train = read(\"training\", path)\n",
        "X_test, y_test = read(\"testing\", path)"
      ],
      "execution_count": 0,
      "outputs": []
    },
    {
      "cell_type": "code",
      "metadata": {
        "id": "MZvIKR0cwTkF",
        "colab_type": "code",
        "colab": {}
      },
      "source": [
        "\n",
        "# reshape matrix to vector\n",
        "X_train = X_train.reshape(X_train.shape[0], -1)\n",
        "X_test = X_test.reshape(X_test.shape[0], -1)"
      ],
      "execution_count": 0,
      "outputs": []
    },
    {
      "cell_type": "markdown",
      "metadata": {
        "id": "PfM82iBnxoYz",
        "colab_type": "text"
      },
      "source": [
        "#Data Scaling - Normalization"
      ]
    },
    {
      "cell_type": "code",
      "metadata": {
        "id": "XlMEMCeUxp-s",
        "colab_type": "code",
        "colab": {}
      },
      "source": [
        "from sklearn.preprocessing import scale\n",
        "\n",
        "# Normalization per image\n",
        "X_train = scale(X_train, axis=1)\n",
        "X_test = scale(X_test, axis=1)"
      ],
      "execution_count": 0,
      "outputs": []
    },
    {
      "cell_type": "markdown",
      "metadata": {
        "id": "ce3jkL3ZxuBS",
        "colab_type": "text"
      },
      "source": [
        "#Logistic Regression"
      ]
    },
    {
      "cell_type": "code",
      "metadata": {
        "id": "ygPNd1Sfxu70",
        "colab_type": "code",
        "colab": {}
      },
      "source": [
        "random_state = 108"
      ],
      "execution_count": 0,
      "outputs": []
    },
    {
      "cell_type": "markdown",
      "metadata": {
        "id": "HjjIFtbNxym4",
        "colab_type": "text"
      },
      "source": [
        "##2) Multi-class **Classifier (newton-cg, lbfgs)**"
      ]
    },
    {
      "cell_type": "code",
      "metadata": {
        "id": "GyGxfQcBx3Rm",
        "colab_type": "code",
        "colab": {}
      },
      "source": [
        "import pandas as pd\n",
        "from datetime import datetime\n",
        "from sklearn.linear_model import LogisticRegression\n",
        "from sklearn.multiclass import OneVsRestClassifier\n",
        "from sklearn.metrics import f1_score\n",
        "import warnings\n",
        "from sklearn.exceptions import ConvergenceWarning\n",
        "warnings.filterwarnings(action='ignore', category=ConvergenceWarning)\n",
        "\n",
        "# hyper parameter candidate\n",
        "penalty = ['l2']\n",
        "C       = [1e-5, 0.0001, 0.001, 0.01, 0.1, 1.0, 10.0, 100.0, 1000.0, 10000.0]\n",
        "solvers  = ['newton-cg', 'lbfgs']\n"
      ],
      "execution_count": 0,
      "outputs": []
    },
    {
      "cell_type": "code",
      "metadata": {
        "id": "RWdSz2WNyZiE",
        "colab_type": "code",
        "colab": {
          "base_uri": "https://localhost:8080/",
          "height": 1000
        },
        "outputId": "1e1c2e98-03b4-4e9f-ef72-24c9f0bc1cc6"
      },
      "source": [
        "df = pd.DataFrame(columns=['solver', 'penalty', 'C value', 'f1 score', 'learning time'])\n",
        "bookmark = 0\n",
        "\n",
        "for solver in solvers:\n",
        "    for p in penalty:\n",
        "        for c in C:\n",
        "            try:\n",
        "                \n",
        "                logisticRegr = LogisticRegression(penalty=p, C=c, solver = solver,\n",
        "                                                  multi_class='multinomial', random_state=random_state)\n",
        "                begin_time = datetime.now()\n",
        "                logisticRegr.fit(X_train,y_train)\n",
        "                              \n",
        "                end_time = datetime.now()\n",
        "                \n",
        "                y_pred = logisticRegr.predict(X_test)\n",
        "                score = f1_score(y_test, y_pred, average='macro')\n",
        "                df.loc[bookmark] = [solver, p, c, score, end_time - begin_time]\n",
        "                print(df.loc[bookmark])\n",
        "                df.to_csv(\"LR_ovr.csv\", mode='w')\n",
        "\n",
        "                bookmark = bookmark + 1                \n",
        "            except Exception as ex:\n",
        "                print('ERROR:', ex)\n",
        "                break\n",
        "            finally:\n",
        "                print('=======================================')\n",
        "\n",
        "df.to_csv(\"LR_multi.csv\", mode='w')"
      ],
      "execution_count": 25,
      "outputs": [
        {
          "output_type": "stream",
          "text": [
            "solver                        newton-cg\n",
            "penalty                              l2\n",
            "C value                           1e-05\n",
            "f1 score                       0.765227\n",
            "learning time    0 days 00:00:04.783168\n",
            "Name: 0, dtype: object\n",
            "=======================================\n",
            "solver                        newton-cg\n",
            "penalty                              l2\n",
            "C value                          0.0001\n",
            "f1 score                       0.859847\n",
            "learning time    0 days 00:00:10.123778\n",
            "Name: 1, dtype: object\n",
            "=======================================\n",
            "solver                        newton-cg\n",
            "penalty                              l2\n",
            "C value                           0.001\n",
            "f1 score                       0.895279\n",
            "learning time    0 days 00:00:23.198926\n",
            "Name: 2, dtype: object\n",
            "=======================================\n",
            "solver                        newton-cg\n",
            "penalty                              l2\n",
            "C value                            0.01\n",
            "f1 score                       0.905402\n",
            "learning time    0 days 00:00:40.606998\n",
            "Name: 3, dtype: object\n",
            "=======================================\n",
            "solver                        newton-cg\n",
            "penalty                              l2\n",
            "C value                             0.1\n",
            "f1 score                        0.89671\n",
            "learning time    0 days 00:01:00.629772\n",
            "Name: 4, dtype: object\n",
            "=======================================\n",
            "solver                        newton-cg\n",
            "penalty                              l2\n",
            "C value                               1\n",
            "f1 score                         0.8765\n",
            "learning time    0 days 00:01:54.207671\n",
            "Name: 5, dtype: object\n",
            "=======================================\n",
            "solver                        newton-cg\n",
            "penalty                              l2\n",
            "C value                              10\n",
            "f1 score                       0.866959\n",
            "learning time    0 days 00:02:45.905986\n",
            "Name: 6, dtype: object\n",
            "=======================================\n",
            "solver                        newton-cg\n",
            "penalty                              l2\n",
            "C value                             100\n",
            "f1 score                       0.862133\n",
            "learning time    0 days 00:02:54.161654\n",
            "Name: 7, dtype: object\n",
            "=======================================\n",
            "solver                        newton-cg\n",
            "penalty                              l2\n",
            "C value                            1000\n",
            "f1 score                       0.859549\n",
            "learning time    0 days 00:02:39.062483\n",
            "Name: 8, dtype: object\n",
            "=======================================\n",
            "solver                        newton-cg\n",
            "penalty                              l2\n",
            "C value                           10000\n",
            "f1 score                        0.85826\n",
            "learning time    0 days 00:01:38.630201\n",
            "Name: 9, dtype: object\n",
            "=======================================\n",
            "solver                            lbfgs\n",
            "penalty                              l2\n",
            "C value                           1e-05\n",
            "f1 score                       0.765172\n",
            "learning time    0 days 00:00:01.312563\n",
            "Name: 10, dtype: object\n",
            "=======================================\n",
            "solver                            lbfgs\n",
            "penalty                              l2\n",
            "C value                          0.0001\n",
            "f1 score                       0.859846\n",
            "learning time    0 days 00:00:03.578087\n",
            "Name: 11, dtype: object\n",
            "=======================================\n",
            "solver                            lbfgs\n",
            "penalty                              l2\n",
            "C value                           0.001\n",
            "f1 score                       0.895233\n",
            "learning time    0 days 00:00:05.865670\n",
            "Name: 12, dtype: object\n",
            "=======================================\n",
            "solver                            lbfgs\n",
            "penalty                              l2\n",
            "C value                            0.01\n",
            "f1 score                       0.905326\n",
            "learning time    0 days 00:00:05.954314\n",
            "Name: 13, dtype: object\n",
            "=======================================\n",
            "solver                            lbfgs\n",
            "penalty                              l2\n",
            "C value                             0.1\n",
            "f1 score                       0.894185\n",
            "learning time    0 days 00:00:05.912922\n",
            "Name: 14, dtype: object\n",
            "=======================================\n",
            "solver                            lbfgs\n",
            "penalty                              l2\n",
            "C value                               1\n",
            "f1 score                       0.877249\n",
            "learning time    0 days 00:00:05.807340\n",
            "Name: 15, dtype: object\n",
            "=======================================\n",
            "solver                            lbfgs\n",
            "penalty                              l2\n",
            "C value                              10\n",
            "f1 score                       0.869882\n",
            "learning time    0 days 00:00:05.781732\n",
            "Name: 16, dtype: object\n",
            "=======================================\n",
            "solver                            lbfgs\n",
            "penalty                              l2\n",
            "C value                             100\n",
            "f1 score                       0.866598\n",
            "learning time    0 days 00:00:05.972426\n",
            "Name: 17, dtype: object\n",
            "=======================================\n",
            "solver                            lbfgs\n",
            "penalty                              l2\n",
            "C value                            1000\n",
            "f1 score                       0.865583\n",
            "learning time    0 days 00:00:05.919621\n",
            "Name: 18, dtype: object\n",
            "=======================================\n",
            "solver                            lbfgs\n",
            "penalty                              l2\n",
            "C value                           10000\n",
            "f1 score                       0.866528\n",
            "learning time    0 days 00:00:05.911886\n",
            "Name: 19, dtype: object\n",
            "=======================================\n"
          ],
          "name": "stdout"
        }
      ]
    },
    {
      "cell_type": "code",
      "metadata": {
        "id": "yfo2wiiZ1kk8",
        "colab_type": "code",
        "colab": {
          "base_uri": "https://localhost:8080/",
          "height": 202
        },
        "outputId": "a6aa0d24-3cc9-4dbc-ab2d-66ffd14ca2b5"
      },
      "source": [
        "df.sort_values(by='f1 score', ascending=False).head()"
      ],
      "execution_count": 26,
      "outputs": [
        {
          "output_type": "execute_result",
          "data": {
            "text/html": [
              "<div>\n",
              "<style scoped>\n",
              "    .dataframe tbody tr th:only-of-type {\n",
              "        vertical-align: middle;\n",
              "    }\n",
              "\n",
              "    .dataframe tbody tr th {\n",
              "        vertical-align: top;\n",
              "    }\n",
              "\n",
              "    .dataframe thead th {\n",
              "        text-align: right;\n",
              "    }\n",
              "</style>\n",
              "<table border=\"1\" class=\"dataframe\">\n",
              "  <thead>\n",
              "    <tr style=\"text-align: right;\">\n",
              "      <th></th>\n",
              "      <th>solver</th>\n",
              "      <th>penalty</th>\n",
              "      <th>C value</th>\n",
              "      <th>f1 score</th>\n",
              "      <th>learning time</th>\n",
              "    </tr>\n",
              "  </thead>\n",
              "  <tbody>\n",
              "    <tr>\n",
              "      <th>3</th>\n",
              "      <td>newton-cg</td>\n",
              "      <td>l2</td>\n",
              "      <td>0.010</td>\n",
              "      <td>0.905402</td>\n",
              "      <td>00:00:40.606998</td>\n",
              "    </tr>\n",
              "    <tr>\n",
              "      <th>13</th>\n",
              "      <td>lbfgs</td>\n",
              "      <td>l2</td>\n",
              "      <td>0.010</td>\n",
              "      <td>0.905326</td>\n",
              "      <td>00:00:05.954314</td>\n",
              "    </tr>\n",
              "    <tr>\n",
              "      <th>4</th>\n",
              "      <td>newton-cg</td>\n",
              "      <td>l2</td>\n",
              "      <td>0.100</td>\n",
              "      <td>0.896710</td>\n",
              "      <td>00:01:00.629772</td>\n",
              "    </tr>\n",
              "    <tr>\n",
              "      <th>2</th>\n",
              "      <td>newton-cg</td>\n",
              "      <td>l2</td>\n",
              "      <td>0.001</td>\n",
              "      <td>0.895279</td>\n",
              "      <td>00:00:23.198926</td>\n",
              "    </tr>\n",
              "    <tr>\n",
              "      <th>12</th>\n",
              "      <td>lbfgs</td>\n",
              "      <td>l2</td>\n",
              "      <td>0.001</td>\n",
              "      <td>0.895233</td>\n",
              "      <td>00:00:05.865670</td>\n",
              "    </tr>\n",
              "  </tbody>\n",
              "</table>\n",
              "</div>"
            ],
            "text/plain": [
              "       solver penalty  C value  f1 score   learning time\n",
              "3   newton-cg      l2    0.010  0.905402 00:00:40.606998\n",
              "13      lbfgs      l2    0.010  0.905326 00:00:05.954314\n",
              "4   newton-cg      l2    0.100  0.896710 00:01:00.629772\n",
              "2   newton-cg      l2    0.001  0.895279 00:00:23.198926\n",
              "12      lbfgs      l2    0.001  0.895233 00:00:05.865670"
            ]
          },
          "metadata": {
            "tags": []
          },
          "execution_count": 26
        }
      ]
    },
    {
      "cell_type": "code",
      "metadata": {
        "id": "H8hRRSVz5p8b",
        "colab_type": "code",
        "colab": {}
      },
      "source": [
        ""
      ],
      "execution_count": 0,
      "outputs": []
    }
  ]
}