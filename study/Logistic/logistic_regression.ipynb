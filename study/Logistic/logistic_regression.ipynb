{
 "cells": [
  {
   "cell_type": "markdown",
   "metadata": {},
   "source": [
    "# MNIST Dataset Load"
   ]
  },
  {
   "cell_type": "code",
   "execution_count": 1,
   "metadata": {},
   "outputs": [],
   "source": [
    "import os\n",
    "import struct\n",
    "import numpy as np\n",
    "\n",
    "\"\"\"\n",
    "Loosely inspired by http://abel.ee.ucla.edu/cvxopt/_downloads/mnist.py\n",
    "which is GPL licensed.\n",
    "\"\"\"\n",
    "\n",
    "def read(dataset = \"training\", path = \".\"):\n",
    "    \"\"\"\n",
    "    Python function for importing the MNIST data set.  It returns an iterator\n",
    "    of 2-tuples with the first element being the label and the second element\n",
    "    being a numpy.uint8 2D array of pixel data for the given image.\n",
    "    \"\"\"\n",
    "\n",
    "    if dataset is \"testing\":\n",
    "        fname_img = os.path.join(path, 'train-images-idx3-ubyte')\n",
    "        fname_lbl = os.path.join(path, 'train-labels-idx1-ubyte')\n",
    "    elif dataset is \"training\":\n",
    "        fname_img = os.path.join(path, 't10k-images-idx3-ubyte')\n",
    "        fname_lbl = os.path.join(path, 't10k-labels-idx1-ubyte')\n",
    "    else:\n",
    "        raise Exception(\"dataset must be 'testing' or 'training'\")\n",
    "\n",
    "    # Load everything in some numpy arrays\n",
    "    with open(fname_lbl, 'rb') as flbl:\n",
    "        magic, num = struct.unpack(\">II\", flbl.read(8))\n",
    "        lbl = np.fromfile(flbl, dtype=np.int8)\n",
    "\n",
    "    with open(fname_img, 'rb') as fimg:\n",
    "        magic, num, rows, cols = struct.unpack(\">IIII\", fimg.read(16))\n",
    "        img = np.fromfile(fimg, dtype=np.uint8).reshape(len(lbl), rows, cols)\n",
    "\n",
    "    return img, lbl"
   ]
  },
  {
   "cell_type": "code",
   "execution_count": 2,
   "metadata": {},
   "outputs": [],
   "source": [
    "# MNIST data directory path\n",
    "path = 'MNIST/'"
   ]
  },
  {
   "cell_type": "code",
   "execution_count": 3,
   "metadata": {},
   "outputs": [],
   "source": [
    "X_train, y_train = read(\"training\", path)\n",
    "X_test, y_test = read(\"testing\", path)"
   ]
  },
  {
   "cell_type": "code",
   "execution_count": 4,
   "metadata": {},
   "outputs": [],
   "source": [
    "# reshape matrix to vector\n",
    "X_train = X_train.reshape(X_train.shape[0], -1)\n",
    "X_test = X_test.reshape(X_test.shape[0], -1)"
   ]
  },
  {
   "cell_type": "markdown",
   "metadata": {},
   "source": [
    "## Data Scaling - Normalization"
   ]
  },
  {
   "cell_type": "code",
   "execution_count": 5,
   "metadata": {},
   "outputs": [],
   "source": [
    "from sklearn.preprocessing import scale\n",
    "\n",
    "# Normalization per image\n",
    "X_train = scale(X_train, axis=1)\n",
    "X_test = scale(X_test, axis=1)"
   ]
  },
  {
   "cell_type": "markdown",
   "metadata": {},
   "source": [
    "# Logistic Regression "
   ]
  },
  {
   "cell_type": "code",
   "execution_count": 6,
   "metadata": {},
   "outputs": [],
   "source": [
    "random_state = 108"
   ]
  },
  {
   "cell_type": "markdown",
   "metadata": {},
   "source": [
    "## 1) One vs All Classifier"
   ]
  },
  {
   "cell_type": "code",
   "execution_count": 10,
   "metadata": {},
   "outputs": [],
   "source": [
    "import pandas as pd\n",
    "from datetime import datetime\n",
    "from sklearn.linear_model import LogisticRegression\n",
    "from sklearn.multiclass import OneVsRestClassifier\n",
    "from sklearn.metrics import f1_score\n",
    "import warnings\n",
    "from sklearn.exceptions import ConvergenceWarning\n",
    "warnings.filterwarnings(action='ignore', category=ConvergenceWarning)\n",
    "\n",
    "# hyper parameter candidate\n",
    "penalty = ['l1', 'l2']\n",
    "C       = [1e-5, 0.0001, 0.001, 0.01, 0.1, 1.0, 10.0, 100.0, 1000.0, 10000.0]\n",
    "solvers  = ['liblinear']\n",
    "classify_problem = ['ovr', 'multinomial']"
   ]
  },
  {
   "cell_type": "code",
   "execution_count": 11,
   "metadata": {},
   "outputs": [
    {
     "name": "stderr",
     "output_type": "stream",
     "text": [
      "/Library/Frameworks/Python.framework/Versions/3.7/lib/python3.7/site-packages/sklearn/metrics/classification.py:1437: UndefinedMetricWarning: F-score is ill-defined and being set to 0.0 in labels with no predicted samples.\n",
      "  'precision', 'predicted', average, warn_for)\n"
     ]
    },
    {
     "name": "stdout",
     "output_type": "stream",
     "text": [
      "solver                        liblinear\n",
      "penalty                              l1\n",
      "C value                           1e-05\n",
      "f1 score                      0.0180412\n",
      "learning time    0 days 00:00:01.616988\n",
      "Name: 0, dtype: object\n",
      "=======================================\n"
     ]
    },
    {
     "name": "stderr",
     "output_type": "stream",
     "text": [
      "/Library/Frameworks/Python.framework/Versions/3.7/lib/python3.7/site-packages/sklearn/metrics/classification.py:1437: UndefinedMetricWarning: F-score is ill-defined and being set to 0.0 in labels with no predicted samples.\n",
      "  'precision', 'predicted', average, warn_for)\n"
     ]
    },
    {
     "name": "stdout",
     "output_type": "stream",
     "text": [
      "solver                        liblinear\n",
      "penalty                              l1\n",
      "C value                          0.0001\n",
      "f1 score                      0.0180412\n",
      "learning time    0 days 00:00:01.467144\n",
      "Name: 1, dtype: object\n",
      "=======================================\n",
      "solver                        liblinear\n",
      "penalty                              l1\n",
      "C value                           0.001\n",
      "f1 score                       0.668121\n",
      "learning time    0 days 00:00:03.763267\n",
      "Name: 2, dtype: object\n",
      "=======================================\n",
      "solver                        liblinear\n",
      "penalty                              l1\n",
      "C value                            0.01\n",
      "f1 score                        0.86082\n",
      "learning time    0 days 00:00:04.976175\n",
      "Name: 3, dtype: object\n",
      "=======================================\n",
      "solver                        liblinear\n",
      "penalty                              l1\n",
      "C value                             0.1\n",
      "f1 score                       0.897861\n",
      "learning time    0 days 00:00:10.131376\n",
      "Name: 4, dtype: object\n",
      "=======================================\n",
      "solver                        liblinear\n",
      "penalty                              l1\n",
      "C value                               1\n",
      "f1 score                       0.893185\n",
      "learning time    0 days 00:00:36.271168\n",
      "Name: 5, dtype: object\n",
      "=======================================\n",
      "solver                        liblinear\n",
      "penalty                              l1\n",
      "C value                              10\n",
      "f1 score                       0.869409\n",
      "learning time    0 days 00:02:38.030918\n",
      "Name: 6, dtype: object\n",
      "=======================================\n",
      "solver                        liblinear\n",
      "penalty                              l1\n",
      "C value                             100\n",
      "f1 score                       0.859416\n",
      "learning time    0 days 00:05:28.579602\n",
      "Name: 7, dtype: object\n",
      "=======================================\n",
      "solver                        liblinear\n",
      "penalty                              l1\n",
      "C value                            1000\n",
      "f1 score                       0.856734\n",
      "learning time    0 days 00:07:31.240603\n",
      "Name: 8, dtype: object\n",
      "=======================================\n",
      "solver                        liblinear\n",
      "penalty                              l1\n",
      "C value                           10000\n",
      "f1 score                       0.857069\n",
      "learning time    0 days 00:06:47.298694\n",
      "Name: 9, dtype: object\n",
      "=======================================\n",
      "solver                        liblinear\n",
      "penalty                              l2\n",
      "C value                           1e-05\n",
      "f1 score                       0.765239\n",
      "learning time    0 days 00:00:03.676059\n",
      "Name: 10, dtype: object\n",
      "=======================================\n",
      "solver                        liblinear\n",
      "penalty                              l2\n",
      "C value                          0.0001\n",
      "f1 score                        0.84226\n",
      "learning time    0 days 00:00:06.413597\n",
      "Name: 11, dtype: object\n",
      "=======================================\n",
      "solver                        liblinear\n",
      "penalty                              l2\n",
      "C value                           0.001\n",
      "f1 score                       0.879231\n",
      "learning time    0 days 00:00:09.032353\n",
      "Name: 12, dtype: object\n",
      "=======================================\n",
      "solver                        liblinear\n",
      "penalty                              l2\n",
      "C value                            0.01\n",
      "f1 score                       0.895284\n",
      "learning time    0 days 00:00:15.755776\n",
      "Name: 13, dtype: object\n",
      "=======================================\n",
      "solver                        liblinear\n",
      "penalty                              l2\n",
      "C value                             0.1\n",
      "f1 score                       0.897272\n",
      "learning time    0 days 00:00:25.009484\n",
      "Name: 14, dtype: object\n",
      "=======================================\n",
      "solver                        liblinear\n",
      "penalty                              l2\n",
      "C value                               1\n",
      "f1 score                       0.888344\n",
      "learning time    0 days 00:00:52.438517\n",
      "Name: 15, dtype: object\n",
      "=======================================\n",
      "solver                        liblinear\n",
      "penalty                              l2\n",
      "C value                              10\n",
      "f1 score                       0.872337\n",
      "learning time    0 days 00:01:48.571381\n",
      "Name: 16, dtype: object\n",
      "=======================================\n",
      "solver                        liblinear\n",
      "penalty                              l2\n",
      "C value                             100\n",
      "f1 score                       0.859745\n",
      "learning time    0 days 00:02:55.784072\n",
      "Name: 17, dtype: object\n",
      "=======================================\n",
      "solver                        liblinear\n",
      "penalty                              l2\n",
      "C value                            1000\n",
      "f1 score                       0.850002\n",
      "learning time    0 days 00:06:09.418798\n",
      "Name: 18, dtype: object\n",
      "=======================================\n",
      "solver                        liblinear\n",
      "penalty                              l2\n",
      "C value                           10000\n",
      "f1 score                       0.841009\n",
      "learning time    0 days 00:14:36.740289\n",
      "Name: 19, dtype: object\n",
      "=======================================\n"
     ]
    }
   ],
   "source": [
    "df = pd.DataFrame(columns=['solver', 'penalty', 'C value', 'f1 score', 'learning time'])\n",
    "bookmark = 0\n",
    "\n",
    "for solver in solvers:\n",
    "    for p in penalty:\n",
    "        for c in C:\n",
    "            try:\n",
    "                logisticRegr = LogisticRegression(penalty=p, C=c, solver = solver,\n",
    "                                                  multi_class='ovr', random_state=random_state)\n",
    "                ovrc = OneVsRestClassifier(logisticRegr)\n",
    "                begin_time = datetime.now()\n",
    "                ovrc.fit(X_train, y_train)\n",
    "                end_time = datetime.now()\n",
    "                \n",
    "                y_pred = ovrc.predict(X_test)\n",
    "                score = f1_score(y_test, y_pred, average='macro')\n",
    "                df.loc[bookmark] = [solver, p, c, score, end_time - begin_time]\n",
    "                print(df.loc[bookmark])\n",
    "                df.to_csv(\"LR_ovr.csv\", mode='w')\n",
    "\n",
    "                bookmark = bookmark + 1                \n",
    "            except Exception as ex:\n",
    "                print('ERROR:', ex)\n",
    "                break\n",
    "            finally:\n",
    "                print('=======================================')\n",
    "\n",
    "df.to_csv(\"LR_ovr.csv\", mode='w')"
   ]
  },
  {
   "cell_type": "code",
   "execution_count": 12,
   "metadata": {},
   "outputs": [
    {
     "data": {
      "text/html": [
       "<div>\n",
       "<style scoped>\n",
       "    .dataframe tbody tr th:only-of-type {\n",
       "        vertical-align: middle;\n",
       "    }\n",
       "\n",
       "    .dataframe tbody tr th {\n",
       "        vertical-align: top;\n",
       "    }\n",
       "\n",
       "    .dataframe thead th {\n",
       "        text-align: right;\n",
       "    }\n",
       "</style>\n",
       "<table border=\"1\" class=\"dataframe\">\n",
       "  <thead>\n",
       "    <tr style=\"text-align: right;\">\n",
       "      <th></th>\n",
       "      <th>solver</th>\n",
       "      <th>penalty</th>\n",
       "      <th>C value</th>\n",
       "      <th>f1 score</th>\n",
       "      <th>learning time</th>\n",
       "    </tr>\n",
       "  </thead>\n",
       "  <tbody>\n",
       "    <tr>\n",
       "      <td>4</td>\n",
       "      <td>liblinear</td>\n",
       "      <td>l1</td>\n",
       "      <td>0.10</td>\n",
       "      <td>0.897861</td>\n",
       "      <td>00:00:10.131376</td>\n",
       "    </tr>\n",
       "    <tr>\n",
       "      <td>14</td>\n",
       "      <td>liblinear</td>\n",
       "      <td>l2</td>\n",
       "      <td>0.10</td>\n",
       "      <td>0.897272</td>\n",
       "      <td>00:00:25.009484</td>\n",
       "    </tr>\n",
       "    <tr>\n",
       "      <td>13</td>\n",
       "      <td>liblinear</td>\n",
       "      <td>l2</td>\n",
       "      <td>0.01</td>\n",
       "      <td>0.895284</td>\n",
       "      <td>00:00:15.755776</td>\n",
       "    </tr>\n",
       "    <tr>\n",
       "      <td>5</td>\n",
       "      <td>liblinear</td>\n",
       "      <td>l1</td>\n",
       "      <td>1.00</td>\n",
       "      <td>0.893185</td>\n",
       "      <td>00:00:36.271168</td>\n",
       "    </tr>\n",
       "    <tr>\n",
       "      <td>15</td>\n",
       "      <td>liblinear</td>\n",
       "      <td>l2</td>\n",
       "      <td>1.00</td>\n",
       "      <td>0.888344</td>\n",
       "      <td>00:00:52.438517</td>\n",
       "    </tr>\n",
       "  </tbody>\n",
       "</table>\n",
       "</div>"
      ],
      "text/plain": [
       "       solver penalty  C value  f1 score   learning time\n",
       "4   liblinear      l1     0.10  0.897861 00:00:10.131376\n",
       "14  liblinear      l2     0.10  0.897272 00:00:25.009484\n",
       "13  liblinear      l2     0.01  0.895284 00:00:15.755776\n",
       "5   liblinear      l1     1.00  0.893185 00:00:36.271168\n",
       "15  liblinear      l2     1.00  0.888344 00:00:52.438517"
      ]
     },
     "execution_count": 12,
     "metadata": {},
     "output_type": "execute_result"
    }
   ],
   "source": [
    "df.sort_values(by='f1 score', ascending=False).head()"
   ]
  },
  {
   "cell_type": "markdown",
   "metadata": {},
   "source": [
    "## 2) Multi-class Classifier"
   ]
  },
  {
   "cell_type": "code",
   "execution_count": null,
   "metadata": {},
   "outputs": [],
   "source": []
  }
 ],
 "metadata": {
  "kernelspec": {
   "display_name": "Python 3",
   "language": "python",
   "name": "python3"
  },
  "language_info": {
   "codemirror_mode": {
    "name": "ipython",
    "version": 3
   },
   "file_extension": ".py",
   "mimetype": "text/x-python",
   "name": "python",
   "nbconvert_exporter": "python",
   "pygments_lexer": "ipython3",
   "version": "3.7.4"
  }
 },
 "nbformat": 4,
 "nbformat_minor": 2
}
