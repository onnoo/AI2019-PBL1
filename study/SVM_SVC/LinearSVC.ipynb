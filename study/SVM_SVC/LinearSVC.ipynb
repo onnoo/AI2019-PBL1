{
 "cells": [
  {
   "cell_type": "markdown",
   "metadata": {},
   "source": [
    "## Read MNIST data"
   ]
  },
  {
   "cell_type": "code",
   "execution_count": 26,
   "metadata": {},
   "outputs": [],
   "source": [
    "from sklearn import datasets, svm, metrics\n",
    "from sklearn.preprocessing import StandardScaler\n",
    "from sklearn.metrics import f1_score\n",
    "#from sklearn.pipeline import Pipeline\n",
    "from sklearn.model_selection import KFold\n",
    "from sklearn.multiclass import OneVsRestClassifier\n",
    "from sklearn.svm import LinearSVC\n",
    "\n",
    "import warnings\n",
    "from sklearn.exceptions import ConvergenceWarning\n",
    "warnings.filterwarnings(action='ignore', category=ConvergenceWarning)\n",
    "from datetime import datetime\n",
    "import matplotlib.pyplot as plt\n",
    "import numpy as np\n",
    "import pandas as pd"
   ]
  },
  {
   "cell_type": "code",
   "execution_count": 27,
   "metadata": {},
   "outputs": [],
   "source": [
    "import os\n",
    "import struct\n",
    "import numpy as np\n",
    "import matplotlib.pyplot as pyplot\n",
    "\n",
    "\n",
    "\"\"\"\n",
    "Loosely inspired by http://abel.ee.ucla.edu/cvxopt/_downloads/mnist.py\n",
    "which is GPL licensed.\n",
    "\"\"\"\n",
    "\n",
    "def read(dataset = \"training\", path = \".\"):\n",
    "    \"\"\"\n",
    "    Python function for importing the MNIST data set.  It returns an iterator\n",
    "    of 2-tuples with the first element being the label and the second element\n",
    "    being a numpy.uint8 2D array of pixel data for the given image.\n",
    "    \"\"\"\n",
    "\n",
    "    if dataset is \"training\":\n",
    "        fname_img = os.path.join(path, 'train-images.idx3-ubyte')\n",
    "        fname_lbl = os.path.join(path, 'train-labels.idx1-ubyte')\n",
    "    elif dataset is \"testing\":\n",
    "        fname_img = os.path.join(path, 't10k-images.idx3-ubyte')\n",
    "        fname_lbl = os.path.join(path, 't10k-labels.idx1-ubyte')\n",
    "    else:\n",
    "        raise Exception(\"dataset must be 'testing' or 'training'\")\n",
    "\n",
    "    # Load everything in some numpy arrays\n",
    "    with open(fname_lbl, 'rb') as flbl:\n",
    "        magic, num = struct.unpack(\">II\", flbl.read(8))\n",
    "        lbl = np.fromfile(flbl, dtype=np.int8)\n",
    "\n",
    "    with open(fname_img, 'rb') as fimg:\n",
    "        magic, num, rows, cols = struct.unpack(\">IIII\", fimg.read(16))\n",
    "        img = np.fromfile(fimg, dtype=np.uint8).reshape(len(lbl), rows, cols)\n",
    "    \n",
    "    return img, lbl\n",
    "    \n"
   ]
  },
  {
   "cell_type": "code",
   "execution_count": 28,
   "metadata": {},
   "outputs": [],
   "source": [
    "path = 'MNIST/'\n",
    "X_train, y_train = read(\"testing\", path)\n",
    "X_test, y_test = read(\"training\", path)\n",
    "X_train = X_train.reshape(X_train.shape[0], -1)\n",
    "X_test = X_test.reshape(X_test.shape[0], -1)"
   ]
  },
  {
   "cell_type": "code",
   "execution_count": 29,
   "metadata": {},
   "outputs": [
    {
     "name": "stdout",
     "output_type": "stream",
     "text": [
      "(10000, 784)\n",
      "(10000,)\n",
      "(60000, 784)\n",
      "(60000,)\n"
     ]
    }
   ],
   "source": [
    "print(X_train.shape)\n",
    "print(y_train.shape)\n",
    "print(X_test.shape)\n",
    "print(y_test.shape)"
   ]
  },
  {
   "cell_type": "markdown",
   "metadata": {},
   "source": [
    "## Preprocessing with StandardScaler"
   ]
  },
  {
   "cell_type": "code",
   "execution_count": 30,
   "metadata": {},
   "outputs": [],
   "source": [
    "from sklearn.preprocessing import StandardScaler\n",
    "\n",
    "scaler = StandardScaler()\n",
    "StandardScaler(copy=True, with_mean=True, with_std=True)\n",
    "scaler.fit(X_train)\n",
    "X_train_scaled = scaler.transform(X_train)\n",
    "X_test_scaled = scaler.transform(X_test)\n",
    "\n",
    "#print(np.sum(X_train_scaled[0]))"
   ]
  },
  {
   "cell_type": "code",
   "execution_count": 31,
   "metadata": {},
   "outputs": [],
   "source": [
    "cv = KFold(n_splits=5, shuffle=False)"
   ]
  },
  {
   "cell_type": "code",
   "execution_count": null,
   "metadata": {},
   "outputs": [],
   "source": [
    "\"\"\"\n",
    "from sklearn import datasets, metrics\n",
    "from sklearn.multiclass import OneVsRestClassifier\n",
    "from sklearn.svm import LinearSVC\n",
    "\n",
    "classifier = svm.LinearSVC(C=1.0, loss='hinge', multi_class='ovr', random_state=108)\n",
    "\n",
    "\n",
    "LinearSVC(C=1.0, class_weight=None, dual=True, fit_intercept=True,\n",
    "intercept_scaling=1, loss='hinge', max_iter=1000,\n",
    "multi_class='ovr', penalty='l2', random_state=0, tol=1e-05, verbose=0)\n",
    "\n",
    "LinearSVC(C=c, loss='squred_hinge', multi_class='ovr', random_state=108)\n",
    "\n",
    "y_pred = classifier.fit(X_train_scaled, y_train).predict(X_test_scaled)\n",
    "\n",
    "\"\"\""
   ]
  },
  {
   "cell_type": "code",
   "execution_count": null,
   "metadata": {},
   "outputs": [],
   "source": [
    "\"\"\"\n",
    "pipe = Pipeline([('scaler', scaler),('LinearSVC',classifier)])\n",
    "parameter = {'LinearSVC_C' : [0.001, 0.01, 0.1, 1, 10, 100, 1000]}\n",
    "grid_pipe = GridSearchCV(pipe, parameter)\n",
    "grid_pipe.fit(X,y)\n",
    "print('Best hyperparameter: ', grid_pipe.best_params_)\n",
    "print('Best score: ', grid_pipe.best_score_)\n",
    "\"\"\""
   ]
  },
  {
   "cell_type": "markdown",
   "metadata": {},
   "source": [
    "## K-fold and training"
   ]
  },
  {
   "cell_type": "code",
   "execution_count": 34,
   "metadata": {},
   "outputs": [
    {
     "name": "stdout",
     "output_type": "stream",
     "text": [
      "C value                           0.001\n",
      "f1 score                       0.840205\n",
      "learning time    0 days 00:00:41.847026\n",
      "Name: 0, dtype: object\n",
      "=======================================\n",
      "C value                            0.01\n",
      "f1 score                        0.88046\n",
      "learning time    0 days 00:01:14.259498\n",
      "Name: 1, dtype: object\n",
      "=======================================\n",
      "C value                             0.1\n",
      "f1 score                       0.877044\n",
      "learning time    0 days 00:01:33.498477\n",
      "Name: 2, dtype: object\n",
      "=======================================\n",
      "C value                               1\n",
      "f1 score                        0.85627\n",
      "learning time    0 days 00:01:59.220753\n",
      "Name: 3, dtype: object\n",
      "=======================================\n",
      "C value                              10\n",
      "f1 score                       0.831804\n",
      "learning time    0 days 00:03:18.366447\n",
      "Name: 4, dtype: object\n",
      "=======================================\n",
      "C value                             100\n",
      "f1 score                       0.835014\n",
      "learning time    0 days 00:02:22.324530\n",
      "Name: 5, dtype: object\n",
      "=======================================\n",
      "C value                            1000\n",
      "f1 score                       0.835014\n",
      "learning time    0 days 00:02:23.639903\n",
      "Name: 6, dtype: object\n",
      "=======================================\n"
     ]
    }
   ],
   "source": [
    "from sklearn.svm import LinearSVC\n",
    "from sklearn.model_selection import cross_val_score\n",
    "#C  = [ 0.1, 0.2, 0.3, 0.4, 0.5, 0.6, 0.7, 0.8, 0.9, 1.0]\n",
    "\n",
    "C  = [0.001, 0.01, 0.1, 1.0, 10.0, 100.0, 1000.0]\n",
    "df = pd.DataFrame(columns=['C value', 'f1 score', 'learning time'])\n",
    "bookmark = 0\n",
    "\n",
    "\n",
    "for c in C:\n",
    "    \n",
    "    try:\n",
    "\n",
    "        classifier = OneVsRestClassifier(svm.SVC(C=c, kernel='linear', random_state=108))\n",
    "        #\n",
    "        begin_time = datetime.now()\n",
    "\n",
    "        #LinearSvc = classifier.fit(X_train_scaled, y_train)\n",
    "        #K_foldCV_scores = cross_val_score(estimator=classifier,\n",
    "                 #X=X_train_scaled,\n",
    "                 #y=y_train,\n",
    "                 #cv=cv,\n",
    "                 #n_jobs=-1)\n",
    "        end_time = datetime.now()\n",
    "        #\n",
    "        y_pred = classifier.fit(X_train_scaled, y_train).predict(X_test_scaled)\n",
    "        score = f1_score(y_test, y_pred, average='macro')\n",
    "        #\n",
    "        df.loc[bookmark] = [c, score, end_time - begin_time]\n",
    "        print(df.loc[bookmark])\n",
    "        df.to_csv(\"LinearSVM2_ovr.csv\", mode='w')\n",
    "\n",
    "        bookmark = bookmark + 1                \n",
    "\n",
    "    except Exception as ex:\n",
    "        print('ERROR:', ex)\n",
    "        break\n",
    "    finally:\n",
    "        print('=======================================')\n",
    "\n",
    "df.to_csv(\"LR_multi2.csv\", mode='w')"
   ]
  },
  {
   "cell_type": "code",
   "execution_count": 33,
   "metadata": {},
   "outputs": [
    {
     "ename": "SyntaxError",
     "evalue": "invalid syntax (<ipython-input-33-ebcfcb545513>, line 5)",
     "output_type": "error",
     "traceback": [
      "\u001b[1;36m  File \u001b[1;32m\"<ipython-input-33-ebcfcb545513>\"\u001b[1;36m, line \u001b[1;32m5\u001b[0m\n\u001b[1;33m    ax1 = plt.subplot(211)\u001b[0m\n\u001b[1;37m      ^\u001b[0m\n\u001b[1;31mSyntaxError\u001b[0m\u001b[1;31m:\u001b[0m invalid syntax\n"
     ]
    }
   ],
   "source": [
    "from sklearn.multiclass import OneVsRestClassifier\n",
    "from sklearn.svm import LinearSVC\n",
    "\n",
    "model_ovr = OneVsRestClassifier(LinearSVC(c=1.0).fit(X_train_scaled, y_train)\n",
    "\n",
    "ax1 = plt.subplot(211)\n",
    "pd.DataFrame(model_ovr.decision_function(X_train_scaled)).plot(ax=ax1, legend=False)\n",
    "plt.title(\"판별 함수\")\n",
    "ax2 = plt.subplot(212)\n",
    "pd.DataFrame(model_ovr.predict(X_train_scaled), columns=[\"prediction\"]).plot(marker='o', ls=\"\", ax=ax2)\n",
    "plt.title(\"클래스 판별\")\n",
    "plt.tight_layout()\n",
    "plt.show()"
   ]
  },
  {
   "cell_type": "code",
   "execution_count": 22,
   "metadata": {},
   "outputs": [
    {
     "name": "stdout",
     "output_type": "stream",
     "text": [
      "Classification report for classifier LinearSVC(C=1000.0, class_weight=None, dual=True, fit_intercept=True,\n",
      "          intercept_scaling=1, loss='hinge', max_iter=1000, multi_class='ovr',\n",
      "          penalty='l2', random_state=108, tol=0.0001, verbose=0):\n",
      "              precision    recall  f1-score   support\n",
      "\n",
      "           0       0.91      0.93      0.92      5923\n",
      "           1       0.90      0.96      0.93      6742\n",
      "           2       0.81      0.79      0.80      5958\n",
      "           3       0.85      0.78      0.82      6131\n",
      "           4       0.84      0.85      0.84      5842\n",
      "           5       0.78      0.76      0.77      5421\n",
      "           6       0.87      0.90      0.88      5918\n",
      "           7       0.86      0.86      0.86      6265\n",
      "           8       0.79      0.75      0.77      5851\n",
      "           9       0.77      0.82      0.79      5949\n",
      "\n",
      "    accuracy                           0.84     60000\n",
      "   macro avg       0.84      0.84      0.84     60000\n",
      "weighted avg       0.84      0.84      0.84     60000\n",
      "\n",
      "\n",
      "Confusion matrix:\n",
      "[[5511   14   61   36   38   58   68   22  101   14]\n",
      " [   3 6440   45   28   19   43   28   28   89   19]\n",
      " [  92  118 4698  154  155  104  229  167  196   45]\n",
      " [  54   63  240 4792   45  346   56  118  235  182]\n",
      " [  58   43  119   10 4939   52   86   71   93  371]\n",
      " [  93   80   84  287  129 4111  180   70  269  118]\n",
      " [  50   58  150   20   72  145 5307   21   81   14]\n",
      " [  48   53  100   65  120   33   32 5392   42  380]\n",
      " [  78  247  204  127   77  300   80   52 4402  284]\n",
      " [  72   38   75  104  311   72   24  318   83 4852]]\n"
     ]
    }
   ],
   "source": [
    "print(\"Classification report for classifier %s:\\n%s\\n\"\n",
    "      % (classifier, metrics.classification_report(y_test, y_pred)))\n",
    "print(\"Confusion matrix:\\n%s\" % metrics.confusion_matrix(y_test, y_pred))"
   ]
  },
  {
   "cell_type": "markdown",
   "metadata": {},
   "source": [
    "## K-FOLD CV"
   ]
  },
  {
   "cell_type": "code",
   "execution_count": null,
   "metadata": {},
   "outputs": [],
   "source": [
    "scores = cross_val_score(estimator=classifier,\n",
    "                         X=X_train_scaled,\n",
    "                         y=y_train,\n",
    "                         cv=cv,\n",
    "                         n_jobs=-1)\n",
    "\n",
    "print('CV accuracy scores: %s' % scores)\n",
    "print('CV accuracy: %.3f +/- %.3f' % (np.mean(scores), np.std(scores)))"
   ]
  },
  {
   "cell_type": "code",
   "execution_count": 44,
   "metadata": {},
   "outputs": [
    {
     "data": {
      "image/png": "[encoded data removed]",
      "text/plain": [
       "<Figure size 432x288 with 1 Axes>"
      ]
     },
     "metadata": {},
     "output_type": "display_data"
    }
   ],
   "source": [
    "f1_score = [ 0.840, 0.88, 0.877,  0.85,  0.83, 0.83, 0.83]\n",
    "c = [0.001, 0.01, 0.1, 1.0, 10.0, 100.0 ,1000.0]\n",
    "plt.title(\"relation between C and f1_score\")\n",
    "plt.plot(c, f1_score)\n",
    "plt.grid()\n",
    "plt.xscale('log')\n",
    "plt.ylabel('f1_score')\n",
    "plt.xlabel('Parameter C')\n",
    "plt.ylim(0, 1.1)\n",
    "plt.tight_layout()\n",
    "plt.show()"
   ]
  },
  {
   "cell_type": "code",
   "execution_count": 40,
   "metadata": {},
   "outputs": [
    {
     "name": "stdout",
     "output_type": "stream",
     "text": [
      "Test Accuracy: 0.854\n"
     ]
    }
   ],
   "source": [
    "from sklearn.preprocessing import StandardScaler\n",
    "from sklearn.svm import LinearSVC\n",
    "from sklearn.pipeline import Pipeline\n",
    "\n",
    "pipe_lr = Pipeline([('scl', StandardScaler()),\n",
    "                    ('clf', LinearSVC(random_state=108))])\n",
    "\n",
    "pipe_lr.fit(X_train, y_train)\n",
    "print('Test Accuracy: %.3f' % pipe_lr.score(X_test, y_test))\n",
    "y_pred = pipe_lr.predict(X_test)"
   ]
  },
  {
   "cell_type": "code",
   "execution_count": null,
   "metadata": {},
   "outputs": [],
   "source": [
    "from sklearn.model_selection import validation_curve\n",
    "\n",
    "param_range = [0.001, 0.01, 0.1, 1.0, 10.0, 100.0, 1000.0]\n",
    "train_scores, test_scores = validation_curve(\n",
    "                estimator=pipe_lr, \n",
    "                X=X_train, \n",
    "                y=y_train, \n",
    "                param_name='clf__C', \n",
    "                param_range=param_range,\n",
    "                cv=10)\n",
    "\n",
    "train_mean = np.mean(train_scores, axis=1)\n",
    "train_std = np.std(train_scores, axis=1)\n",
    "test_mean = np.mean(test_scores, axis=1)\n",
    "test_std = np.std(test_scores, axis=1)\n",
    "\n",
    "plt.plot(param_range, train_mean, \n",
    "         color='blue', marker='o', \n",
    "         markersize=5, label='training accuracy')\n",
    "\n",
    "plt.fill_between(param_range, train_mean + train_std,\n",
    "                 train_mean - train_std, alpha=0.15,\n",
    "                 color='blue')\n",
    "\n",
    "plt.plot(param_range, test_mean, \n",
    "         color='green', linestyle='--', \n",
    "         marker='s', markersize=5, \n",
    "         label='validation accuracy')\n",
    "\n",
    "plt.fill_between(param_range, \n",
    "                 test_mean + test_std,\n",
    "                 test_mean - test_std, \n",
    "                 alpha=0.15, color='green')\n",
    "\n",
    "plt.grid()\n",
    "plt.xscale('log')\n",
    "plt.legend(loc='lower right')\n",
    "plt.xlabel('Parameter C')\n",
    "plt.ylabel('Accuracy')\n",
    "plt.ylim([0.8, 1.0])\n",
    "plt.tight_layout()\n",
    "# plt.savefig('./figures/validation_curve.png', dpi=300)\n",
    "plt.show()"
   ]
  },
  {
   "cell_type": "code",
   "execution_count": null,
   "metadata": {},
   "outputs": [],
   "source": []
  }
 ],
 "metadata": {
  "kernelspec": {
   "display_name": "Python 3",
   "language": "python",
   "name": "python3"
  },
  "language_info": {
   "codemirror_mode": {
    "name": "ipython",
    "version": 3
   },
   "file_extension": ".py",
   "mimetype": "text/x-python",
   "name": "python",
   "nbconvert_exporter": "python",
   "pygments_lexer": "ipython3",
   "version": "3.6.5"
  }
 },
 "nbformat": 4,
 "nbformat_minor": 2
}
