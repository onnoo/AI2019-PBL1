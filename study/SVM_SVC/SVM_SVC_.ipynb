{
 "cells": [
  {
   "cell_type": "code",
   "execution_count": 38,
   "metadata": {},
   "outputs": [],
   "source": [
    "from sklearn import datasets, svm, metrics\n",
    "from sklearn.preprocessing import StandardScaler\n",
    "from sklearn.metrics import f1_score\n",
    "from sklearn.metrics import f1_score\n",
    "from sklearn.multiclass import OneVsRestClassifier\n",
    "from sklearn.model_selection import KFold\n",
    "\n",
    "import warnings\n",
    "from sklearn.exceptions import ConvergenceWarning\n",
    "warnings.filterwarnings(action='ignore', category=ConvergenceWarning)\n",
    "from datetime import datetime\n",
    "import matplotlib.pyplot as plt\n",
    "import numpy as np\n",
    "import pandas as pd"
   ]
  },
  {
   "cell_type": "markdown",
   "metadata": {},
   "source": [
    "## READ MNIST DATA"
   ]
  },
  {
   "cell_type": "code",
   "execution_count": 39,
   "metadata": {},
   "outputs": [],
   "source": [
    "import os\n",
    "import struct\n",
    "import numpy as np\n",
    "import matplotlib.pyplot as pyplot\n",
    "\n",
    "\n",
    "\"\"\"\n",
    "Loosely inspired by http://abel.ee.ucla.edu/cvxopt/_downloads/mnist.py\n",
    "which is GPL licensed.\n",
    "\"\"\"\n",
    "\n",
    "def read(dataset = \"training\", path = \".\"):\n",
    "    \"\"\"\n",
    "    Python function for importing the MNIST data set.  It returns an iterator\n",
    "    of 2-tuples with the first element being the label and the second element\n",
    "    being a numpy.uint8 2D array of pixel data for the given image.\n",
    "    \"\"\"\n",
    "\n",
    "    if dataset is \"training\":\n",
    "        fname_img = os.path.join(path, 'train-images.idx3-ubyte')\n",
    "        fname_lbl = os.path.join(path, 'train-labels.idx1-ubyte')\n",
    "    elif dataset is \"testing\":\n",
    "        fname_img = os.path.join(path, 't10k-images.idx3-ubyte')\n",
    "        fname_lbl = os.path.join(path, 't10k-labels.idx1-ubyte')\n",
    "    else:\n",
    "        raise Exception(\"dataset must be 'testing' or 'training'\")\n",
    "\n",
    "    # Load everything in some numpy arrays\n",
    "    with open(fname_lbl, 'rb') as flbl:\n",
    "        magic, num = struct.unpack(\">II\", flbl.read(8))\n",
    "        lbl = np.fromfile(flbl, dtype=np.int8)\n",
    "\n",
    "    with open(fname_img, 'rb') as fimg:\n",
    "        magic, num, rows, cols = struct.unpack(\">IIII\", fimg.read(16))\n",
    "        img = np.fromfile(fimg, dtype=np.uint8).reshape(len(lbl), rows, cols)\n",
    "    \n",
    "    return img, lbl\n",
    "    \n"
   ]
  },
  {
   "cell_type": "code",
   "execution_count": 40,
   "metadata": {},
   "outputs": [],
   "source": [
    "path = 'MNIST/'\n",
    "X_train, y_train = read(\"testing\", path)\n",
    "X_test, y_test = read(\"training\", path)\n",
    "X_train = X_train.reshape(X_train.shape[0], -1)\n",
    "X_test = X_test.reshape(X_test.shape[0], -1)"
   ]
  },
  {
   "cell_type": "code",
   "execution_count": 41,
   "metadata": {},
   "outputs": [
    {
     "name": "stdout",
     "output_type": "stream",
     "text": [
      "(10000, 784)\n",
      "(10000,)\n",
      "(60000, 784)\n",
      "(60000,)\n"
     ]
    }
   ],
   "source": [
    "print(X_train.shape)\n",
    "print(y_train.shape)\n",
    "print(X_test.shape)\n",
    "print(y_test.shape)"
   ]
  },
  {
   "cell_type": "markdown",
   "metadata": {},
   "source": [
    "## Preprocessing with StandardScaler"
   ]
  },
  {
   "cell_type": "code",
   "execution_count": 42,
   "metadata": {},
   "outputs": [],
   "source": [
    "from sklearn.preprocessing import StandardScaler\n",
    "\n",
    "scaler = StandardScaler()\n",
    "StandardScaler(copy=True, with_mean=True, with_std=True)\n",
    "scaler.fit(X_train)\n",
    "X_train_scaled = scaler.transform(X_train)\n",
    "X_test_scaled = scaler.transform(X_test)\n",
    "\n"
   ]
  },
  {
   "cell_type": "markdown",
   "metadata": {},
   "source": [
    "## SVM training"
   ]
  },
  {
   "cell_type": "code",
   "execution_count": 45,
   "metadata": {},
   "outputs": [],
   "source": [
    "from sklearn import datasets, svm, metrics\n",
    "\n",
    "\n",
    "# hyper-parameter\n",
    "C  = [0.001, 0.01, 0.1, 1.0, 10.0, 100.0, 1000.0]\n",
    "\n",
    "# Model Instance    \n",
    "classifier = svm.SVC(kernel = 'linear',\n",
    "                     C = 0.01,\n",
    "                     decision_function_shape= 'ovr',\n",
    "                     random_state=108)\n",
    "\n",
    "# prediction\n",
    "y_pred = classifier.fit(X_train_scaled, y_train).predict(X_test_scaled)\n"
   ]
  },
  {
   "cell_type": "code",
   "execution_count": 57,
   "metadata": {},
   "outputs": [
    {
     "name": "stdout",
     "output_type": "stream",
     "text": [
      "0.9217899111317452\n"
     ]
    }
   ],
   "source": [
    "print(f1_score(y_test, y_pred, average='macro'))"
   ]
  },
  {
   "cell_type": "code",
   "execution_count": null,
   "metadata": {},
   "outputs": [],
   "source": [
    "a = f1_score(y_test, y_pred, average='macro')\n",
    "print(a)\n",
    " >> f1_score = 0.9217899111317452\n",
    "\n",
    "score = cross_val_score(classifier, X_train_scaled, y_train, cv=5, scoring='f1_macro')\n",
    "print(np.mean(score))\n",
    " >> k_fold_f1_score =  0.92583975400000"
   ]
  },
  {
   "cell_type": "code",
   "execution_count": 44,
   "metadata": {},
   "outputs": [
    {
     "ename": "SyntaxError",
     "evalue": "'break' outside loop (<ipython-input-44-e892e0fc2d14>, line 41)",
     "output_type": "error",
     "traceback": [
      "\u001b[1;36m  File \u001b[1;32m\"<ipython-input-44-e892e0fc2d14>\"\u001b[1;36m, line \u001b[1;32m41\u001b[0m\n\u001b[1;33m    break\u001b[0m\n\u001b[1;37m    ^\u001b[0m\n\u001b[1;31mSyntaxError\u001b[0m\u001b[1;31m:\u001b[0m 'break' outside loop\n"
     ]
    }
   ],
   "source": [
    "from sklearn.svm import LinearSVC\n",
    "from sklearn.model_selection import cross_val_score\n",
    "\n",
    "#C  = [ 0.1, 0.2, 0.3, 0.4, 0.5, 0.6, 0.7, 0.8, 0.9, 1.0]\n",
    "#cv = KFold(n_splits=5, shuffle=False)\n",
    "\n",
    "#C  = [0.001, 0.01, 0.1, 1.0, 10.0, 100.0, 1000.0]\n",
    "\n",
    "\n",
    "for c in C:\n",
    "    \n",
    "    try:\n",
    "\n",
    "        classifier = svm.SVC(kernel = 'linear',\n",
    "                             \n",
    "                             C = 0.01, \n",
    "                             decision_function_shape= 'ovr',\n",
    "                             random_state=108)\n",
    "        #\n",
    "        classifier.fit(X_train_scaled, y_train)\n",
    "        \n",
    "        #score = cross_val_score(classifier, X_train_scaled, y_train)\n",
    "        \n",
    "        #LinearSvc = classifier.fit(X_train_scaled, y_train)\n",
    "        #K_foldCV_scores = cross_val_score(estimator=classifier,\n",
    "                 #X=X_train_scaled,\n",
    "                 #y=y_train,\n",
    "                 #cv=cv,\n",
    "                 #n_jobs=-1)\n",
    "        \n",
    "        #y_pred = classifier.fit(X_train_scaled, y_train).predict(X_test_scaled)\n",
    "        #f1score = f1_score(y_test, y_pred, average='macro')\n",
    "        print(f1socre)\n",
    "        score = cross_val_score(classifier, X_train_scaled, y_train, cv=5, scoring='f1_macro')\n",
    "        print(np.mean(score))\n",
    "\n",
    "    except Exception as ex:\n",
    "        print('ERROR:', ex)\n",
    "        break\n",
    "    finally:\n",
    "        print('=======================================')\n",
    "\n"
   ]
  },
  {
   "cell_type": "code",
   "execution_count": 56,
   "metadata": {},
   "outputs": [
    {
     "name": "stdout",
     "output_type": "stream",
     "text": [
      "0.9217899111317452\n"
     ]
    }
   ],
   "source": [
    "from sklearn.metrics import f1_score\n",
    "\n",
    "a = f1_score(y_test, y_pred, average='macro')\n",
    "print(a)\n",
    " >> f1_score = 0.9217899111317452\n",
    "\n",
    "score = cross_val_score(classifier, X_train_scaled, y_train, cv=5, scoring='f1_macro')\n",
    "print(np.mean(score))\n",
    " >> k_fold_f1_score =  0.9258397540000001\n"
   ]
  },
  {
   "cell_type": "code",
   "execution_count": 46,
   "metadata": {
    "scrolled": false
   },
   "outputs": [
    {
     "name": "stdout",
     "output_type": "stream",
     "text": [
      "Classification report for classifier SVC(C=0.01, cache_size=200, class_weight=None, coef0=0.0,\n",
      "    decision_function_shape='ovr', degree=3, gamma='auto_deprecated',\n",
      "    kernel='linear', max_iter=-1, probability=False, random_state=108,\n",
      "    shrinking=True, tol=0.001, verbose=False):\n",
      "              precision    recall  f1-score   support\n",
      "\n",
      "           0       0.95      0.97      0.96      5923\n",
      "           1       0.94      0.98      0.96      6742\n",
      "           2       0.89      0.92      0.91      5958\n",
      "           3       0.91      0.88      0.90      6131\n",
      "           4       0.91      0.94      0.93      5842\n",
      "           5       0.89      0.89      0.89      5421\n",
      "           6       0.95      0.96      0.96      5918\n",
      "           7       0.93      0.93      0.93      6265\n",
      "           8       0.93      0.86      0.89      5851\n",
      "           9       0.91      0.89      0.90      5949\n",
      "\n",
      "    accuracy                           0.92     60000\n",
      "   macro avg       0.92      0.92      0.92     60000\n",
      "weighted avg       0.92      0.92      0.92     60000\n",
      "\n",
      "\n",
      "Confusion matrix:\n",
      "[[5751    2   30   14   11   37   24    4   41    9]\n",
      " [   2 6599   36   16   12   19    2   10   25   21]\n",
      " [  44   59 5470   72   91   17   63   73   56   13]\n",
      " [  17   54  181 5413   11  240   12   65   99   39]\n",
      " [  20   17   74    3 5485   10   23   21   19  170]\n",
      " [  55   61   44  155   42 4838   99   10   87   30]\n",
      " [  39   23   64    8   42   61 5654    5   21    1]\n",
      " [  53   34   49   17   86   12    3 5820   12  179]\n",
      " [  50  173  118  131   41  169   37   26 5044   62]\n",
      " [  28   19   51   93  195   28    5  205   32 5293]]\n"
     ]
    }
   ],
   "source": [
    "print(\"Classification report for classifier %s:\\n%s\\n\"\n",
    "      % (classifier, metrics.classification_report(y_test, y_pred)))\n",
    "print(\"Confusion matrix:\\n%s\" % metrics.confusion_matrix(y_test, y_pred))\n"
   ]
  },
  {
   "cell_type": "markdown",
   "metadata": {},
   "source": [
    "## K-FOLD CV"
   ]
  },
  {
   "cell_type": "code",
   "execution_count": 20,
   "metadata": {},
   "outputs": [
    {
     "name": "stdout",
     "output_type": "stream",
     "text": [
      "CV accuracy scores: [0.89865202 0.90813779 0.925      0.93293293 0.94639279]\n",
      "CV accuracy: 0.922 +/- 0.017\n",
      "CV accuracy scores: [0.9121318  0.90763854 0.93       0.94094094 0.94388778]\n",
      "CV accuracy: 0.927 +/- 0.015\n",
      "CV accuracy scores: [0.89465801 0.90264603 0.923      0.92692693 0.93336673]\n",
      "CV accuracy: 0.916 +/- 0.015\n",
      "CV accuracy scores: [0.89216176 0.90114828 0.92       0.92642643 0.93286573]\n",
      "CV accuracy: 0.915 +/- 0.015\n",
      "CV accuracy scores: [0.89216176 0.90114828 0.92       0.92642643 0.93286573]\n",
      "CV accuracy: 0.915 +/- 0.015\n",
      "CV accuracy scores: [0.89216176 0.90114828 0.92       0.92642643 0.93286573]\n",
      "CV accuracy: 0.915 +/- 0.015\n",
      "CV accuracy scores: [0.89216176 0.90114828 0.92       0.92642643 0.93286573]\n",
      "CV accuracy: 0.915 +/- 0.015\n"
     ]
    }
   ],
   "source": [
    "from sklearn.model_selection import cross_val_score\n",
    "# hyper-parameter\n",
    "C = [0.001, 0.01, 0.1, 1.0, 10, 100, 1000]\n",
    "values = []\n",
    "for c in C:\n",
    "    \n",
    "    # Model Instance \n",
    "    classifier = svm.SVC(kernel = 'linear',\n",
    "                                     C = c, \n",
    "                                     decision_function_shape= 'ovr',\n",
    "                                     random_state=108)\n",
    "    # Model evaluation k_fold\n",
    "    scores = cross_val_score(estimator=classifier,\n",
    "                             X=X_train_scaled,\n",
    "                             y=y_train,\n",
    "                             cv=5,\n",
    "                             scoring='f1_macro'\n",
    "                             n_jobs=-1)\n",
    "\n",
    "    print('CV f1_macro scores: %s' % scores)\n",
    "    print('CV f1_macro: %.3f +/- %.3f' % (np.mean(scores), np.std(scores)))\n",
    "    values.append(np.mean(scores))"
   ]
  },
  {
   "cell_type": "code",
   "execution_count": 21,
   "metadata": {},
   "outputs": [
    {
     "name": "stdout",
     "output_type": "stream",
     "text": [
      "[0.9222231067562319, 0.9269198121950637, 0.9161195408655919, 0.9145204385673861, 0.9145204385673861, 0.9145204385673861, 0.9145204385673861]\n"
     ]
    }
   ],
   "source": [
    "print(values)"
   ]
  },
  {
   "cell_type": "code",
   "execution_count": 51,
   "metadata": {},
   "outputs": [
    {
     "data": {
      "image/png": "[encoded data removed]",
      "text/plain": [
       "<Figure size 432x288 with 1 Axes>"
      ]
     },
     "metadata": {},
     "output_type": "display_data"
    }
   ],
   "source": [
    "import matplotlib.pyplot as plt\n",
    "\n",
    "f1_score = [0.11, 0.65, 0.88, 0.93, 0.94, 0.94]\n",
    "c = [0.001, 0.01, 0.1, 1.0, 10, 1000]\n",
    "plt.title(\"relation between C and f1_score\")\n",
    "plt.plot(c, f1_score)\n",
    "\n",
    "plt.grid()\n",
    "plt.xscale('log')\n",
    "plt.ylabel('f1_score')\n",
    "plt.xlabel('Parameter C')\n",
    "plt.ylim(0, 1.1)\n",
    "plt.tight_layout()\n",
    "plt.show()"
   ]
  },
  {
   "cell_type": "code",
   "execution_count": 9,
   "metadata": {},
   "outputs": [
    {
     "name": "stdout",
     "output_type": "stream",
     "text": [
      "0.921049072\n",
      "0.9258397540000001\n",
      "0.9149695320000001\n",
      "0.91337297\n",
      "0.91337297\n",
      "0.91337297\n",
      "0.91337297\n"
     ]
    }
   ],
   "source": [
    "a = [0.89733031, 0.90706668, 0.92378847, 0.93143688, 0.94562302] #0.001\n",
    "\n",
    "b = [0.91094132, 0.90637636, 0.92901128, 0.93980855, 0.94306126] #0.01\n",
    "\n",
    "c=[0.8931477,  0.9015262,  0.92191558, 0.92602243, 0.93223575] #0.1\n",
    "\n",
    "d=[0.89068799, 0.9000524,  0.91886021, 0.9255447,  0.93171955] #1\n",
    "\n",
    "e=[0.89068799, 0.9000524,  0.91886021, 0.9255447,  0.93171955] #10\n",
    "\n",
    "f=[0.89068799, 0.9000524,  0.91886021, 0.9255447,  0.93171955] #100\n",
    "\n",
    "g=[0.89068799, 0.9000524,  0.91886021, 0.9255447,  0.93171955] #1000\n",
    "\n",
    "print(np.mean(a))\n",
    "print(np.mean(b))\n",
    "print(np.mean(c))\n",
    "print(np.mean(d))\n",
    "print(np.mean(e))\n",
    "print(np.mean(f))\n",
    "print(np.mean(g))\n"
   ]
  },
  {
   "cell_type": "code",
   "execution_count": 36,
   "metadata": {
    "scrolled": true
   },
   "outputs": [
    {
     "data": {
      "image/png": "[encoded data removed]",
      "text/plain": [
       "<Figure size 432x288 with 1 Axes>"
      ]
     },
     "metadata": {},
     "output_type": "display_data"
    }
   ],
   "source": [
    "import matplotlib.pyplot as plt\n",
    "\n",
    "f1_score = [0.922, 0.926, 0.916, 0.914, 0.914, 0.914, 0.914]\n",
    "c = [0.001, 0.01, 0.1, 1.0, 10, 100,1000]\n",
    "plt.title(\"relation between C and f1_score\")\n",
    "plt.plot(c, f1_score)\n",
    "\n",
    "plt.grid()\n",
    "plt.xscale('log')\n",
    "plt.ylabel('f1_score')\n",
    "plt.xlabel('Parameter C')\n",
    "plt.ylim(0.8, 1.0 )\n",
    "plt.tight_layout()\n",
    "plt.show()"
   ]
  },
  {
   "cell_type": "code",
   "execution_count": 58,
   "metadata": {},
   "outputs": [
    {
     "name": "stdout",
     "output_type": "stream",
     "text": [
      "\n",
      "for c in C:\n",
      "\n",
      "\n"
     ]
    },
    {
     "ename": "AttributeError",
     "evalue": "module 'matplotlib.cm' has no attribute 'Green'",
     "output_type": "error",
     "traceback": [
      "\u001b[1;31m---------------------------------------------------------------------------\u001b[0m",
      "\u001b[1;31mAttributeError\u001b[0m                            Traceback (most recent call last)",
      "\u001b[1;32m<ipython-input-58-ce3984fac65a>\u001b[0m in \u001b[0;36m<module>\u001b[1;34m()\u001b[0m\n\u001b[0;32m     12\u001b[0m                           \u001b[0mnormalize\u001b[0m\u001b[1;33m=\u001b[0m\u001b[1;32mFalse\u001b[0m\u001b[1;33m,\u001b[0m\u001b[1;33m\u001b[0m\u001b[0m\n\u001b[0;32m     13\u001b[0m                           \u001b[0mtitle\u001b[0m\u001b[1;33m=\u001b[0m\u001b[1;32mNone\u001b[0m\u001b[1;33m,\u001b[0m\u001b[1;33m\u001b[0m\u001b[0m\n\u001b[1;32m---> 14\u001b[1;33m                           cmap=plt.cm.Green):\n\u001b[0m\u001b[0;32m     15\u001b[0m     \"\"\"\n\u001b[0;32m     16\u001b[0m     \u001b[0mThis\u001b[0m \u001b[0mfunction\u001b[0m \u001b[0mprints\u001b[0m \u001b[1;32mand\u001b[0m \u001b[0mplots\u001b[0m \u001b[0mthe\u001b[0m \u001b[0mconfusion\u001b[0m \u001b[0mmatrix\u001b[0m\u001b[1;33m.\u001b[0m\u001b[1;33m\u001b[0m\u001b[0m\n",
      "\u001b[1;31mAttributeError\u001b[0m: module 'matplotlib.cm' has no attribute 'Green'"
     ]
    }
   ],
   "source": [
    "print(__doc__)\n",
    "\n",
    "import numpy as np\n",
    "import matplotlib.pyplot as plt\n",
    "\n",
    "from sklearn import svm, datasets\n",
    "from sklearn.metrics import confusion_matrix\n",
    "from sklearn.utils.multiclass import unique_labels\n",
    "\n",
    "classnaems = y_test\n",
    "def plot_confusion_matrix(y_true, y_pred, classes,\n",
    "                          normalize=False,\n",
    "                          title=None,\n",
    "                          cmap=plt.cm.Blues):\n",
    "    \"\"\"\n",
    "    This function prints and plots the confusion matrix.\n",
    "    Normalization can be applied by setting `normalize=True`.\n",
    "    \"\"\"\n",
    "    if not title:\n",
    "        if normalize:\n",
    "            title = 'Normalized confusion matrix'\n",
    "        else:\n",
    "            title = 'Confusion matrix, without normalization'\n",
    "\n",
    "    # Compute confusion matrix\n",
    "    cm = confusion_matrix(y_true, y_pred)\n",
    "    # Only use the labels that appear in the data\n",
    "    classes = classes[unique_labels(y_true, y_pred)]\n",
    "    if normalize:\n",
    "        cm = cm.astype('float') / cm.sum(axis=1)[:, np.newaxis]\n",
    "        print(\"Normalized confusion matrix\")\n",
    "    else:\n",
    "        print('Confusion matrix, without normalization')\n",
    "\n",
    "    print(cm)\n",
    "\n",
    "    fig, ax = plt.subplots()\n",
    "    im = ax.imshow(cm, interpolation='nearest', cmap=cmap)\n",
    "    ax.figure.colorbar(im, ax=ax)\n",
    "    # We want to show all ticks...\n",
    "    ax.set(xticks=np.arange(cm.shape[1]),\n",
    "           yticks=np.arange(cm.shape[0]),\n",
    "           # ... and label them with the respective list entries\n",
    "           xticklabels=classes, yticklabels=classes,\n",
    "           title=title,\n",
    "           ylabel='True label',\n",
    "           xlabel='Predicted label')\n",
    "\n",
    "    # Rotate the tick labels and set their alignment.\n",
    "    plt.setp(ax.get_xticklabels(), rotation=45, ha=\"right\",\n",
    "             rotation_mode=\"anchor\")\n",
    "\n",
    "    # Loop over data dimensions and create text annotations.\n",
    "    fmt = '.2f' if normalize else 'd'\n",
    "    thresh = cm.max() / 2.\n",
    "    for i in range(cm.shape[0]):\n",
    "        for j in range(cm.shape[1]):\n",
    "            ax.text(j, i, format(cm[i, j], fmt),\n",
    "                    ha=\"center\", va=\"center\",\n",
    "                    color=\"white\" if cm[i, j] > thresh else \"black\")\n",
    "    fig.tight_layout()\n",
    "    return ax\n",
    "\n",
    "\n",
    "np.set_printoptions(precision=2)\n",
    "\n",
    "# Plot non-normalized confusion matrix\n",
    "plot_confusion_matrix(y_test, y_pred, classes=class_names,\n",
    "                      title='Confusion matrix, without normalization')\n",
    "\n",
    "# Plot normalized confusion matrix\n",
    "plot_confusion_matrix(y_test, y_pred, classes=class_names, normalize=True,\n",
    "                      title='Normalized confusion matrix')\n",
    "\n",
    "plt.show()"
   ]
  },
  {
   "cell_type": "code",
   "execution_count": null,
   "metadata": {},
   "outputs": [],
   "source": []
  }
 ],
 "metadata": {
  "kernelspec": {
   "display_name": "Python 3",
   "language": "python",
   "name": "python3"
  }
 },
 "nbformat": 4,
 "nbformat_minor": 2
}
