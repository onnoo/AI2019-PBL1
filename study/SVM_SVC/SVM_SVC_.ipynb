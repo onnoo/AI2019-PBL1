{
 "cells": [
  {
   "cell_type": "code",
   "execution_count": null,
   "metadata": {},
   "outputs": [],
   "source": [
    "from sklearn import datasets, svm, metrics\n",
    "from sklearn.preprocessing import StandardScaler\n",
    "from sklearn.metrics import f1_score\n",
    "import matplotlib.pyplot as plt\n",
    "import numpy as np\n",
    "import pandas as pd"
   ]
  },
  {
   "cell_type": "markdown",
   "metadata": {},
   "source": [
    "## READ MNIST DATA"
   ]
  },
  {
   "cell_type": "code",
   "execution_count": null,
   "metadata": {},
   "outputs": [],
   "source": [
    "import os\n",
    "import struct\n",
    "import numpy as np\n",
    "import matplotlib.pyplot as pyplot\n",
    "\n",
    "\n",
    "\"\"\"\n",
    "Loosely inspired by http://abel.ee.ucla.edu/cvxopt/_downloads/mnist.py\n",
    "which is GPL licensed.\n",
    "\"\"\"\n",
    "\n",
    "def read(dataset = \"training\", path = \".\"):\n",
    "    \"\"\"\n",
    "    Python function for importing the MNIST data set.  It returns an iterator\n",
    "    of 2-tuples with the first element being the label and the second element\n",
    "    being a numpy.uint8 2D array of pixel data for the given image.\n",
    "    \"\"\"\n",
    "\n",
    "    if dataset is \"training\":\n",
    "        fname_img = os.path.join(path, 'train-images.idx3-ubyte')\n",
    "        fname_lbl = os.path.join(path, 'train-labels.idx1-ubyte')\n",
    "    elif dataset is \"testing\":\n",
    "        fname_img = os.path.join(path, 't10k-images.idx3-ubyte')\n",
    "        fname_lbl = os.path.join(path, 't10k-labels.idx1-ubyte')\n",
    "    else:\n",
    "        raise Exception(\"dataset must be 'testing' or 'training'\")\n",
    "\n",
    "    # Load everything in some numpy arrays\n",
    "    with open(fname_lbl, 'rb') as flbl:\n",
    "        magic, num = struct.unpack(\">II\", flbl.read(8))\n",
    "        lbl = np.fromfile(flbl, dtype=np.int8)\n",
    "\n",
    "    with open(fname_img, 'rb') as fimg:\n",
    "        magic, num, rows, cols = struct.unpack(\">IIII\", fimg.read(16))\n",
    "        img = np.fromfile(fimg, dtype=np.uint8).reshape(len(lbl), rows, cols)\n",
    "    \n",
    "    return img, lbl\n",
    "    \n"
   ]
  },
  {
   "cell_type": "code",
   "execution_count": 27,
   "metadata": {},
   "outputs": [],
   "source": [
    "path = 'MNIST/'\n",
    "X_train, y_train = read(\"testing\", path)\n",
    "X_test, y_test = read(\"training\", path)\n",
    "X_train = X_train.reshape(X_train.shape[0], -1)\n",
    "X_test = X_test.reshape(X_test.shape[0], -1)"
   ]
  },
  {
   "cell_type": "code",
   "execution_count": 28,
   "metadata": {},
   "outputs": [
    {
     "name": "stdout",
     "output_type": "stream",
     "text": [
      "(10000, 784)\n",
      "(10000,)\n",
      "(60000, 784)\n",
      "(60000,)\n"
     ]
    }
   ],
   "source": [
    "print(X_train.shape)\n",
    "print(y_train.shape)\n",
    "print(X_test.shape)\n",
    "print(y_test.shape)"
   ]
  },
  {
   "cell_type": "markdown",
   "metadata": {},
   "source": [
    "## Preprocessing with StandardScaler"
   ]
  },
  {
   "cell_type": "code",
   "execution_count": 29,
   "metadata": {},
   "outputs": [],
   "source": [
    "from sklearn.preprocessing import StandardScaler\n",
    "\n",
    "scaler = StandardScaler()\n",
    "StandardScaler(copy=True, with_mean=True, with_std=True)\n",
    "scaler.fit(X_train)\n",
    "X_train_scaled = scaler.transform(X_train)\n",
    "X_test_scaled = scaler.transform(X_test)\n",
    "\n",
    "#print(np.sum(X_train_scaled[0]))"
   ]
  },
  {
   "cell_type": "markdown",
   "metadata": {},
   "source": [
    "## SVM training"
   ]
  },
  {
   "cell_type": "code",
   "execution_count": 30,
   "metadata": {},
   "outputs": [],
   "source": [
    "from sklearn import datasets, svm, metrics\n",
    "\n",
    "classifier = svm.SVC(C=100,gamma = 0.001 ,random_state=108)\n",
    "\n",
    "y_pred = classifier.fit(X_train_scaled, y_train).predict(X_test_scaled)\n",
    "#18분"
   ]
  },
  {
   "cell_type": "code",
   "execution_count": 31,
   "metadata": {
    "scrolled": false
   },
   "outputs": [
    {
     "name": "stdout",
     "output_type": "stream",
     "text": [
      "Classification report for classifier SVC(C=100, cache_size=200, class_weight=None, coef0=0.0,\n",
      "    decision_function_shape='ovr', degree=3, gamma=0.001, kernel='rbf',\n",
      "    max_iter=-1, probability=False, random_state=108, shrinking=True, tol=0.001,\n",
      "    verbose=False):\n",
      "              precision    recall  f1-score   support\n",
      "\n",
      "           0       0.97      0.97      0.97      5923\n",
      "           1       0.97      0.98      0.97      6742\n",
      "           2       0.91      0.94      0.92      5958\n",
      "           3       0.94      0.91      0.93      6131\n",
      "           4       0.94      0.95      0.94      5842\n",
      "           5       0.94      0.93      0.94      5421\n",
      "           6       0.96      0.95      0.96      5918\n",
      "           7       0.89      0.95      0.92      6265\n",
      "           8       0.95      0.91      0.93      5851\n",
      "           9       0.94      0.91      0.93      5949\n",
      "\n",
      "    accuracy                           0.94     60000\n",
      "   macro avg       0.94      0.94      0.94     60000\n",
      "weighted avg       0.94      0.94      0.94     60000\n",
      "\n",
      "\n",
      "Confusion matrix:\n",
      "[[5773    3   34   11    4   17   34   14   28    5]\n",
      " [   2 6595   40   10   16    8    8   35   13   15]\n",
      " [  17   30 5571   60   48    6   40  145   33    8]\n",
      " [   9   27  146 5588    7  123    8  114   82   27]\n",
      " [  13   14   73    2 5556    6   31   37   16   94]\n",
      " [  25   18   29  104   32 5035   73   34   45   26]\n",
      " [  40   15   45    1   21   43 5651   85   17    0]\n",
      " [  29   23   45   15   77    5    2 5951    8  110]\n",
      " [  34   82   84   81   25   79   33   41 5343   49]\n",
      " [  23   14   55   61  145   12    3  197   22 5417]]\n"
     ]
    }
   ],
   "source": [
    "print(\"Classification report for classifier %s:\\n%s\\n\"\n",
    "      % (classifier, metrics.classification_report(y_test, y_pred)))\n",
    "print(\"Confusion matrix:\\n%s\" % metrics.confusion_matrix(y_test, y_pred))\n"
   ]
  },
  {
   "cell_type": "markdown",
   "metadata": {},
   "source": [
    "## K-FOLD CV"
   ]
  },
  {
   "cell_type": "code",
   "execution_count": 97,
   "metadata": {},
   "outputs": [
    {
     "name": "stdout",
     "output_type": "stream",
     "text": [
      "CV accuracy scores: [0.94 0.9  0.93 0.93 0.91 0.95 0.94 0.96 0.96 0.95]\n",
      "CV accuracy: 0.937 +/- 0.019\n"
     ]
    }
   ],
   "source": [
    "from sklearn.model_selection import cross_val_score\n",
    "\n",
    "scores = cross_val_score(estimator=classifier,\n",
    "                         X=X_train_scaled,\n",
    "                         y=y_train,\n",
    "                         cv=10,\n",
    "                         n_jobs=-1)\n",
    "\n",
    "print('CV accuracy scores: %s' % scores)\n",
    "print('CV accuracy: %.3f +/- %.3f' % (np.mean(scores), np.std(scores)))"
   ]
  },
  {
   "cell_type": "code",
   "execution_count": 34,
   "metadata": {},
   "outputs": [
    {
     "data": {
      "image/png": "[encoded data removed]",
      "text/plain": [
       "<Figure size 432x288 with 1 Axes>"
      ]
     },
     "metadata": {},
     "output_type": "display_data"
    }
   ],
   "source": [
    "import matplotlib.pyplot as plt\n",
    "\"\"\"\n",
    "1000 = 0.94\n",
    "100 = 0.94\n",
    "10 = 0.94\n",
    "5.0 = 0.94\n",
    "4.5 = 0.94\n",
    "3.5 = 0.94\n",
    "2.5 = 0.94\n",
    "2.0 = 0.94\n",
    "1.6 = 0.94\n",
    "1.45 = 0.94\n",
    "1.15 = 0.94\n",
    "\n",
    "1.1 = 0.93\n",
    "1.0 = 0.93\n",
    "0.95 = 0.93\n",
    "0.85 = 0.93\n",
    "0.75 = 0.93\n",
    "0.65 = 0.93\n",
    "0.6 = 0.93\n",
    "\n",
    "0.55 = 0.92\n",
    "0.45 = 0.92\n",
    "0.35 = 0.92\n",
    "\n",
    "0.25 = 0.91\n",
    "0.2 = 0.91\n",
    "\n",
    "0.15 = 0.9\n",
    "0.1 = 0.88\n",
    "0.05 = 0.85\n",
    "0.01 = 0.65\n",
    "0.001 = 0.11\n",
    "\"\"\"\n",
    "f1_score = [0.11, 0.65, 0.88, 0.93, 0.94, 0.94]\n",
    "c = [0.001, 0.01, 0.1, 1.0, 10, 100]\n",
    "plt.title(\"relation between C and f1_score\")\n",
    "plt.plot(c, f1_score)\n",
    "plt.show()"
   ]
  },
  {
   "cell_type": "code",
   "execution_count": null,
   "metadata": {},
   "outputs": [],
   "source": []
  },
  {
   "cell_type": "code",
   "execution_count": null,
   "metadata": {},
   "outputs": [],
   "source": []
  }
 ],
 "metadata": {
  "kernelspec": {
   "display_name": "Python 3",
   "language": "python",
   "name": "python3"
  }
 },
 "nbformat": 4,
 "nbformat_minor": 2
}
